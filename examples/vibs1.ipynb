{
 "cells": [
  {
   "cell_type": "markdown",
   "metadata": {
    "collapsed": true
   },
   "source": [
    "# 2DOF Beam"
   ]
  },
  {
   "cell_type": "markdown",
   "metadata": {},
   "source": [
    "The general mathematical representation of a single degree of freedom system is expressed using Newton's second law. It is a linear, time invariant, second order differential equation.\n",
    "\n",
    "\\begin{equation}\n",
    "M \\ddot{x} \\left ( t \\right ) + C \\dot{x}\\left (t \\right ) + K x \\left (t \\right ) = f \\left (t \\right )\n",
    "\\end{equation}\n",
    "\n"
   ]
  },
  {
   "cell_type": "markdown",
   "metadata": {},
   "source": [
    "## Setup\n",
    "\n"
   ]
  },
  {
   "cell_type": "code",
   "execution_count": 2,
   "metadata": {
    "collapsed": true
   },
   "outputs": [],
   "source": [
    "import numpy as np\n",
    "from scipy import linalg as la\n",
    "import matplotlib.pyplot as plt\n",
    "\n",
    "show = lambda x,y: print('{}:\\n{}\\n'.format(x,y))"
   ]
  },
  {
   "cell_type": "markdown",
   "metadata": {},
   "source": [
    "## Build Beam\n",
    "\n"
   ]
  },
  {
   "cell_type": "code",
   "execution_count": 3,
   "metadata": {},
   "outputs": [
    {
     "name": "stdout",
     "output_type": "stream",
     "text": [
      "Mass matrix:\n",
      "[[ 5.40372671  0.        ]\n",
      " [ 0.          5.40372671]]\n",
      "\n",
      "Stiffness matrix:\n",
      "[[ 754.  -29.]\n",
      " [ -29.  754.]]\n",
      "\n"
     ]
    }
   ],
   "source": [
    "b = 1              # in\n",
    "h = 12             # in\n",
    "I = b*(h**3)/12       # in^4\n",
    "E = 29e6           # psi \n",
    "l = 100*12         # ft -> in\n",
    "grav = 386.4       # in/sec^2;\n",
    "mbar = b*h*.29     # vol * density -> lbf\n",
    "mbar = mbar/grav   # lbm\n",
    "\n",
    "# define discrete boundary springs\n",
    "k1 = E*I/(l**3) * 300\n",
    "k2 = E*I/l**3 * 300\n",
    "\n",
    "# form mass matrix, [M]\n",
    "M = mbar*l/2 * np.eye(2)\n",
    "\n",
    "# form stiffness matrix, [K] from beam and springs\n",
    "k = E*I/(l**3)  * np.array([[12, -12 ] , [-12, 12]])\n",
    "K = k + np.eye(2)*np.array([k1,k2]) \n",
    "\n",
    "\n",
    "show('Mass matrix',M)\n",
    "show('Stiffness matrix',K)"
   ]
  },
  {
   "cell_type": "markdown",
   "metadata": {},
   "source": [
    "## Eigenvalue Decomposition\n",
    "\n",
    "\n",
    "\n",
    "Modal vectors and system poles (damped natural frequencies).\n",
    "\n",
    "Proportionally damped system - modal vectors are always real (normal) modes. Therefore, the conjugate of a modal vector is the same as the modal vector.\n"
   ]
  },
  {
   "cell_type": "code",
   "execution_count": 4,
   "metadata": {},
   "outputs": [
    {
     "name": "stdout",
     "output_type": "stream",
     "text": [
      "Eigenvalues:\n",
      "[ 134.16666667  144.9       ]\n",
      "\n",
      "Eigenvectors:\n",
      "[[-0.30418536 -0.30418536]\n",
      " [-0.30418536  0.30418536]]\n",
      "\n",
      "Decoupled Mass Matrix:\n",
      "[[  1.00000000e+00  -2.33377532e-17]\n",
      " [ -2.33377532e-17   1.00000000e+00]]\n",
      "\n",
      "Decoupled Stiffness Matrix:\n",
      "[[  1.34166667e+02   5.94466183e-15]\n",
      " [  6.12689641e-16   1.44900000e+02]]\n",
      "\n"
     ]
    }
   ],
   "source": [
    "# decomposition (use hermetian for square matrices) \n",
    "d, v = la.eigh(K,M)\n",
    "\n",
    "# damped natural frequencies [rad/sec]\n",
    "w = np.sqrt(d)\n",
    "\n",
    "# decoupled mass and stiffness matrices\n",
    "# note that the two matrix multiplication's below are equivalent. \n",
    "Mr = np.dot(np.dot(v.T,M), v) # works but ugly\n",
    "Kr = v.T@K@v                  # works but only in python3.5+\n",
    "\n",
    "\n",
    "# proportional damping [5% critical]\n",
    "dampr = .05\n",
    "\n",
    "# damping factor [rad/sec]\n",
    "dampf = -dampr*w\n",
    "\n",
    "# damped natural frequency [rad/sec]\n",
    "wn = np.sqrt(w**2 + dampf**2)\n",
    "\n",
    "# form positive poles\n",
    "roots = dampf + 1j*wn\n",
    "\n",
    "\n",
    "show('Eigenvalues',d)\n",
    "show('Eigenvectors',v)\n",
    "show('Decoupled Mass Matrix', Mr)\n",
    "show('Decoupled Stiffness Matrix',Kr)"
   ]
  },
  {
   "cell_type": "markdown",
   "metadata": {},
   "source": [
    "## Beam Plots"
   ]
  },
  {
   "cell_type": "code",
   "execution_count": 27,
   "metadata": {
    "scrolled": true
   },
   "outputs": [
    {
     "data": {
      "image/png": "[encoded data removed]",
      "text/plain": [
       "<matplotlib.figure.Figure at 0x50b3230>"
      ]
     },
     "metadata": {},
     "output_type": "display_data"
    },
    {
     "data": {
      "image/png": "[encoded data removed]",
      "text/plain": [
       "<matplotlib.figure.Figure at 0x3312cb0>"
      ]
     },
     "metadata": {},
     "output_type": "display_data"
    }
   ],
   "source": [
    "coords = np.array([[0,l],[0,0]])\n",
    "\n",
    "def plot_undeformed(ax):\n",
    "    ax.plot(coords[0,:], coords[1,:],'o--')\n",
    "\n",
    "# plot each mode\n",
    "for mode in range(v.shape[1]):\n",
    "    \n",
    "    fig, ax = plt.subplots()\n",
    "    \n",
    "    # plot beam\n",
    "    plot_undeformed(ax)\n",
    "\n",
    "    # superimpose modal vectors\n",
    "    ax.plot(coords[0,:]+v[:,mode], coords[1,:]+v[:,mode],'o-')\n",
    "    \n",
    "    \n",
    "    # format plot\n",
    "    plt.ylim(-.5,.5)\n",
    "    plt.xlabel('Beam Length [in]')\n",
    "    plt.ylabel('Modal Amplitude')\n",
    "    plt.title('Mode {}'.format(mode+1))\n",
    "    plt.show()\n",
    "    #fig.savefig('beam_2dof_mode{}.png'.format(mode+1))"
   ]
  },
  {
   "cell_type": "markdown",
   "metadata": {
    "collapsed": true
   },
   "source": [
    "## Transfer Function\n",
    "\n",
    "Form transfer function from partial fraction expansion form\n"
   ]
  },
  {
   "cell_type": "code",
   "execution_count": 34,
   "metadata": {
    "collapsed": true
   },
   "outputs": [],
   "source": [
    "ns = 128\n",
    "ne = v.shape[1] # number of effective modes\n",
    "\n",
    "# general modal scaling, Qr\n",
    "qr = 1/(2j*np.diag(Mr)*wn)\n",
    "\n",
    "# scaled residues [Ar] for each mode (numerator)\n",
    "A = [qr[mode]*np.outer(v[:,mode],v[:,mode]) for mode in np.arange(ne)]\n",
    "\n",
    "\n",
    "freqs = np.linspace(-25,25,ns)\n",
    "\n",
    "HH = np.zeros((v.shape[0],v.shape[1],ns))\n",
    "\n",
    "def frf_build_sdof(a,r,f):\n",
    "    \"\"\"builds 1d array of sdof frequency response function by \n",
    "    evaluating residue and pole along a given frequency domain\"\"\"\n",
    "    h = a/(1j*f-r) + np.conj(a)/(1j*f-np.conj(r))\n",
    "    return h\n",
    "\n",
    "for mode in np.arange(ne):\n",
    "    pass\n",
    "    #h = A[::,::,None] * frf_build_sdof\n",
    "    \n",
    "# form classic [no x ni x ns] FRF\n",
    "iin = 1\n",
    "iout = 1\n",
    "\n",
    "mode = 0\n",
    "\n",
    "#h = frf_build_sdof(A[mode], roots[mode], freqs)\n",
    "\n",
    "\n",
    "def mag2db(x):\n",
    "    return 20*np.log10(x)\n"
   ]
  },
  {
   "cell_type": "markdown",
   "metadata": {},
   "source": [
    "### Frequency Response Function (FRF) Plots\n",
    "\n"
   ]
  },
  {
   "cell_type": "code",
   "execution_count": 2,
   "metadata": {},
   "outputs": [
    {
     "ename": "NameError",
     "evalue": "name 'plt' is not defined",
     "output_type": "error",
     "traceback": [
      "\u001b[1;31m---------------------------------------------------------------------------\u001b[0m",
      "\u001b[1;31mNameError\u001b[0m                                 Traceback (most recent call last)",
      "\u001b[1;32m<ipython-input-2-fd8f85378c91>\u001b[0m in \u001b[0;36m<module>\u001b[1;34m()\u001b[0m\n\u001b[1;32m----> 1\u001b[1;33m \u001b[0mplt\u001b[0m\u001b[1;33m.\u001b[0m\u001b[0mclose\u001b[0m\u001b[1;33m(\u001b[0m\u001b[1;33m)\u001b[0m\u001b[1;33m\u001b[0m\u001b[0m\n\u001b[0m\u001b[0;32m      2\u001b[0m \u001b[1;33m\u001b[0m\u001b[0m\n\u001b[0;32m      3\u001b[0m \u001b[0mmode\u001b[0m \u001b[1;33m=\u001b[0m \u001b[1;36m1\u001b[0m\u001b[1;33m\u001b[0m\u001b[0m\n\u001b[0;32m      4\u001b[0m \u001b[0miin\u001b[0m \u001b[1;33m=\u001b[0m \u001b[1;36m0\u001b[0m\u001b[1;33m\u001b[0m\u001b[0m\n\u001b[0;32m      5\u001b[0m \u001b[0miout\u001b[0m \u001b[1;33m=\u001b[0m \u001b[1;36m0\u001b[0m\u001b[1;33m\u001b[0m\u001b[0m\n",
      "\u001b[1;31mNameError\u001b[0m: name 'plt' is not defined"
     ]
    }
   ],
   "source": [
    "plt.close()\n",
    "\n",
    "mode = 1\n",
    "iin = 0\n",
    "iout = 0\n",
    "h = frf_build_sdof(A[mode][iout][iin],roots[mode],freqs)\n",
    "\n",
    "plt.plot(freqs,mag2db(np.abs(h)),'o--')\n",
    "plt.grid('on')\n",
    "plt.show()\n"
   ]
  },
  {
   "cell_type": "markdown",
   "metadata": {},
   "source": [
    "## Shape Estimation (CMIF via SVD)\n",
    "\n"
   ]
  },
  {
   "cell_type": "code",
   "execution_count": 26,
   "metadata": {},
   "outputs": [
    {
     "data": {
      "text/plain": [
       "[array([[ 0.-0.00398917j,  0.-0.00398917j],\n",
       "        [ 0.-0.00398917j,  0.-0.00398917j]]),\n",
       " array([[ 0.-0.00383858j,  0.+0.00383858j],\n",
       "        [ 0.+0.00383858j,  0.-0.00383858j]])]"
      ]
     },
     "execution_count": 26,
     "metadata": {},
     "output_type": "execute_result"
    }
   ],
   "source": []
  },
  {
   "cell_type": "markdown",
   "metadata": {},
   "source": [
    "## Pole Estimation (eFRF)\n",
    "\n"
   ]
  },
  {
   "cell_type": "code",
   "execution_count": null,
   "metadata": {
    "collapsed": true
   },
   "outputs": [],
   "source": []
  },
  {
   "cell_type": "markdown",
   "metadata": {},
   "source": [
    "## Modal Flexibility"
   ]
  },
  {
   "cell_type": "code",
   "execution_count": null,
   "metadata": {
    "collapsed": true
   },
   "outputs": [],
   "source": []
  }
 ],
 "metadata": {
  "kernelspec": {
   "display_name": "Python 3",
   "language": "python",
   "name": "python3"
  },
  "language_info": {
   "codemirror_mode": {
    "name": "ipython",
    "version": 3
   },
   "file_extension": ".py",
   "mimetype": "text/x-python",
   "name": "python",
   "nbconvert_exporter": "python",
   "pygments_lexer": "ipython3",
   "version": "3.6.3"
  }
 },
 "nbformat": 4,
 "nbformat_minor": 2
}
